{
 "cells": [
  {
   "cell_type": "markdown",
   "metadata": {},
   "source": [
    "Data Mining. Lab #2\n",
    "================\n",
    "\n",
    "[SymPy](https://docs.sympy.org/latest/tutorial/preliminaries.html)"
   ]
  },
  {
   "cell_type": "code",
   "execution_count": 1,
   "metadata": {},
   "outputs": [],
   "source": [
    "from sympy import *\n",
    "from itertools import combinations\n",
    "init_printing()"
   ]
  },
  {
   "cell_type": "markdown",
   "metadata": {},
   "source": [
    "generate k-subsets from set."
   ]
  },
  {
   "cell_type": "code",
   "execution_count": 2,
   "metadata": {},
   "outputs": [],
   "source": [
    "def subsets(S, k):\n",
    "    return [set(s)for s in combinations(S, k)]"
   ]
  },
  {
   "cell_type": "code",
   "execution_count": 3,
   "metadata": {},
   "outputs": [
    {
     "data": {
      "image/png": "[encoded data removed]",
      "text/latex": [
       "$$\\left [ \\left\\{1, 2\\right\\}, \\quad \\left\\{1, 3\\right\\}, \\quad \\left\\{2, 3\\right\\}\\right ]$$"
      ],
      "text/plain": [
       "[set([1, 2]), set([1, 3]), set([2, 3])]"
      ]
     },
     "execution_count": 3,
     "metadata": {},
     "output_type": "execute_result"
    }
   ],
   "source": [
    "subsets({1, 2, 3}, 2)"
   ]
  },
  {
   "cell_type": "markdown",
   "metadata": {},
   "source": [
    "And sometimes I want to print a list, each on its own line:"
   ]
  },
  {
   "cell_type": "code",
   "execution_count": 4,
   "metadata": {},
   "outputs": [],
   "source": [
    "def print_all(iterable):\n",
    "    for item in iterable:\n",
    "        print(item)"
   ]
  },
  {
   "cell_type": "code",
   "execution_count": 5,
   "metadata": {},
   "outputs": [
    {
     "name": "stdout",
     "output_type": "stream",
     "text": [
      "{1, 2}\n",
      "{1, 3}\n",
      "{2, 3}\n"
     ]
    }
   ],
   "source": [
    "print_all(subsets({1, 2, 3}, 2))"
   ]
  },
  {
   "cell_type": "markdown",
   "metadata": {},
   "source": [
    "In association rule mining, we try to discover rules based on item sets.\n",
    "\n",
    "Our input data is a list of _transactions_. Each transaction contains a set of items (called an _itemset_).\n",
    "For example, this table represents the set of items bought by a customer in a single transaction:\n",
    "\n",
    "| TID | Items |\n",
    "| --- | ----- |\n",
    "| 1 | Bread, Milk |\n",
    "| 2 | Bread, Diaper, Beer, Eggs |\n",
    "| 3 | Milk, Diaper, Beer, Coke |\n",
    "| 4 | Bread, Milk, Diaper, Beer |\n",
    "| 4 | Bread, Milk, Diaper, Coke |"
   ]
  },
  {
   "cell_type": "code",
   "execution_count": 6,
   "metadata": {},
   "outputs": [],
   "source": [
    "T = [\n",
    " {'Bread', 'Milk'},\n",
    " {'Beer', 'Bread', 'Diaper', 'Eggs'},\n",
    " {'Beer', 'Coke', 'Diaper', 'Milk'},\n",
    " {'Beer', 'Bread', 'Diaper', 'Milk'},\n",
    " {'Bread', 'Coke', 'Diaper', 'Milk'},\n",
    "]"
   ]
  },
  {
   "cell_type": "markdown",
   "metadata": {},
   "source": [
    "association rules, such as:\n",
    "\n",
    "$$ \\{\\text{Milk}, \\text{Bread}\\} \\Rightarrow \\{\\text{Eggs}, \\text{Coke}\\} $$\n"
   ]
  },
  {
   "cell_type": "markdown",
   "metadata": {},
   "source": [
    "Itemsets\n",
    "========\n",
    "\n",
    "An _itemset_ is simply a set of items, such as $\\{ \\text{Milk}, \\text{Bread}, \\text{Eggs} \\}$.\n",
    "\n",
    "The frequency of occurrence of an _itemset_ is called support count.\n",
    "\n",
    "$$ \\sigma(X) = \\|\\{ x \\in T \\:|\\: X \\subseteq x \\}\\| $$"
   ]
  },
  {
   "cell_type": "code",
   "execution_count": 7,
   "metadata": {},
   "outputs": [],
   "source": [
    "def support_count(X, T):\n",
    "    return S(sum(1 for x in T if X <= x))"
   ]
  },
  {
   "cell_type": "code",
   "execution_count": 8,
   "metadata": {},
   "outputs": [
    {
     "data": {
      "image/png": "[encoded data removed]",
      "text/latex": [
       "$$2$$"
      ],
      "text/plain": [
       "2"
      ]
     },
     "execution_count": 8,
     "metadata": {},
     "output_type": "execute_result"
    }
   ],
   "source": [
    "support_count({'Milk', 'Bread', 'Diaper'}, T)"
   ]
  },
  {
   "cell_type": "markdown",
   "metadata": {},
   "source": [
    "Support is the _proportion_ of transactions that contain an itemset.\n",
    "\n",
    "$$ s(X) = \\frac{\\sigma(X)}{\\|\\text{T}\\|} $$"
   ]
  },
  {
   "cell_type": "code",
   "execution_count": 9,
   "metadata": {},
   "outputs": [],
   "source": [
    "def support(X, T):\n",
    "    return support_count(X, T) / len(T)"
   ]
  },
  {
   "cell_type": "code",
   "execution_count": 10,
   "metadata": {},
   "outputs": [
    {
     "data": {
      "image/png": "[encoded data removed]",
      "text/latex": [
       "$$\\frac{2}{5}$$"
      ],
      "text/plain": [
       "2/5"
      ]
     },
     "execution_count": 10,
     "metadata": {},
     "output_type": "execute_result"
    }
   ],
   "source": [
    "support({'Milk', 'Bread', 'Diaper'}, T)"
   ]
  },
  {
   "cell_type": "markdown",
   "metadata": {},
   "source": [
    "If the _support_ is higher than a given ratio, it is called a _frequent itemset_."
   ]
  },
  {
   "cell_type": "markdown",
   "metadata": {},
   "source": [
    "Rules\n",
    "=====\n",
    "\n",
    "A rule is in form of $X \\Rightarrow Y$ where $X$ and $Y$ are itemsets. For example:\n",
    "\n",
    "$$ \\{ \\text{Milk}, \\text{Diaper} \\} \\Rightarrow \\{ \\text{Beer} \\} $$"
   ]
  },
  {
   "cell_type": "code",
   "execution_count": 11,
   "metadata": {},
   "outputs": [],
   "source": [
    "rule = ({'Milk', 'Diaper'}, {'Beer'})"
   ]
  },
  {
   "cell_type": "markdown",
   "metadata": {},
   "source": [
    "The _support_ of the rule is the fraction of transactions that contain both $X$ and $Y$.\n",
    "\n",
    "$$ s(X \\Rightarrow Y) = s(X \\cup Y) $$"
   ]
  },
  {
   "cell_type": "code",
   "execution_count": 12,
   "metadata": {},
   "outputs": [],
   "source": [
    "def func (xy):\n",
    "    x, y = xy\n",
    "    return x, y\n",
    "\n",
    "def rule_support(xy, T):\n",
    "    x, y = func(xy)\n",
    "    return support(x | y, T)"
   ]
  },
  {
   "cell_type": "code",
   "execution_count": 13,
   "metadata": {},
   "outputs": [
    {
     "data": {
      "image/png": "[encoded data removed]",
      "text/latex": [
       "$$\\frac{2}{5}$$"
      ],
      "text/plain": [
       "2/5"
      ]
     },
     "execution_count": 13,
     "metadata": {},
     "output_type": "execute_result"
    }
   ],
   "source": [
    "rule_support(rule, T)"
   ]
  },
  {
   "cell_type": "markdown",
   "metadata": {},
   "source": [
    "The _confidence_ of the rule tells you how many transactions that contains $X$ also contains $Y$ (in form of proportion).\n",
    "\n",
    "$$ c(X \\Rightarrow Y) = \\frac{\\sigma(X \\cup Y)}{\\sigma(X)} \\left(= \\frac{s(X \\Rightarrow Y)}{s(X)}\\right) $$"
   ]
  },
  {
   "cell_type": "code",
   "execution_count": 14,
   "metadata": {},
   "outputs": [],
   "source": [
    "def rule_confidence(xy, T):\n",
    "    x, y = func(xy)\n",
    "    return support(x | y, T) / support(x, T)"
   ]
  },
  {
   "cell_type": "code",
   "execution_count": 15,
   "metadata": {},
   "outputs": [
    {
     "data": {
      "image/png": "[encoded data removed]",
      "text/latex": [
       "$$\\frac{2}{3}$$"
      ],
      "text/plain": [
       "2/3"
      ]
     },
     "execution_count": 15,
     "metadata": {},
     "output_type": "execute_result"
    }
   ],
   "source": [
    "rule_confidence(rule, T)"
   ]
  },
  {
   "cell_type": "markdown",
   "metadata": {},
   "source": [
    "Association Rule Mining\n",
    "=======================\n",
    "\n",
    "In association rule mining, we want to find all rules that has enough _support_ and _confidence_. In other words, we want to find $\\{ X \\Rightarrow Y \\:|\\: s(X \\Rightarrow Y) > s_{min}, c(X \\Rightarrow Y) > c_{min} \\}$.\n",
    "\n",
    "We are using 2-step approach:\n",
    "\n",
    "- First, finding frequent itemsets with enough support.\n",
    "    - For example, $\\{A, B, C\\}$\n",
    "- Then, generate rules from these itemsets.\n",
    "    - We can generate rules by finding binary partitions of a given itemset.\n",
    "    - For example, from $\\{A, B, C\\}$, we can generate 6 rules:\n",
    "    - Note that support of these rules are all the same.\n",
    "    - We then select only the rules with enough confidence.\n",
    "        - $\\{A\\} \\Rightarrow \\{C,B\\}$\n",
    "        - $\\{C\\} \\Rightarrow \\{A,B\\}$\n",
    "        - $\\{B\\} \\Rightarrow \\{A,C\\}$\n",
    "        - $\\{A,C\\} \\Rightarrow \\{B\\}$\n",
    "        - $\\{A,B\\} \\Rightarrow \\{C\\}$\n",
    "        - $\\{C,B\\} \\Rightarrow \\{A\\}$\n",
    "\n",
    "frequent itemsets supposed to be given"
   ]
  },
  {
   "cell_type": "code",
   "execution_count": 16,
   "metadata": {},
   "outputs": [],
   "source": [
    "T = [\n",
    " {'A', 'B', 'E'},\n",
    " {'B', 'D'},\n",
    " {'B', 'C'},\n",
    " {'A', 'B', 'D'},\n",
    " {'A', 'C'},\n",
    " {'B', 'C'},\n",
    " {'A', 'C'},\n",
    " {'A', 'B', 'C', 'E'},\n",
    " {'A', 'B', 'C'},\n",
    "]\n",
    "\n",
    "cmin = 0.5"
   ]
  },
  {
   "cell_type": "markdown",
   "metadata": {},
   "source": [
    "Given a Frequent Itemset\n",
    "------------------------\n",
    "\n",
    "We can use a naive algorithm:"
   ]
  },
  {
   "cell_type": "code",
   "execution_count": 17,
   "metadata": {},
   "outputs": [],
   "source": [
    "# frequent itemset `l`\n",
    "def find_rules(l, T):\n",
    "    rules = []\n",
    "    for n in range(1, len(l)):\n",
    "        for c in subsets(l, n):\n",
    "            rule = (set(c), l - set(c))\n",
    "            if rule_confidence(rule, T) >= cmin:\n",
    "                rules.append(rule)\n",
    "    return rules"
   ]
  },
  {
   "cell_type": "markdown",
   "metadata": {},
   "source": [
    "It just tries all \"binary partitions\" of the frequent itemset `l`, and only emits rules with enough confidence."
   ]
  },
  {
   "cell_type": "code",
   "execution_count": 18,
   "metadata": {},
   "outputs": [
    {
     "data": {
      "text/plain": [
       "[(({'E'}, {'A', 'B'}), 1),\n",
       " (({'B', 'E'}, {'A'}), 1),\n",
       " (({'A', 'E'}, {'B'}), 1),\n",
       " (({'A', 'B'}, {'E'}), 1/2)]"
      ]
     },
     "execution_count": 18,
     "metadata": {},
     "output_type": "execute_result"
    }
   ],
   "source": [
    "[(rule, rule_confidence(rule, T)) for rule in find_rules({'A', 'B', 'E'}, T)]"
   ]
  },
  {
   "cell_type": "markdown",
   "metadata": {},
   "source": [
    "Without a Frequent Itemset\n",
    "--------------------------\n",
    "\n",
    "Now, recall about having to find the frequent itemsets. What should we do?\n",
    "\n",
    "For a large dataset, this is impractical. To find all the candidates, we must try all subsets of all items!\n",
    "If we have $d$ items, the number of subsets become $2^d$.\n",
    "See how fast it grows!\n",
    "What can we do to help?"
   ]
  },
  {
   "cell_type": "markdown",
   "metadata": {},
   "source": [
    "Apriori Principle\n",
    "-----------------\n",
    "\n",
    "You know, given that $A \\subseteq B$, then $C \\subseteq B$ as well if $C \\subseteq B$.\n",
    "It is also obvious that if $A \\subseteq B$, $s(A) \\geq s(B)$, since every item in $A$ also appear in $B$.\n",
    "\n",
    "Apriori priciple says:\n",
    "_\"If an itemset is frequent, then all of its subsets must also be frequent.\"_\n",
    "\n",
    "From that, we know that if an itemset is _infrequent_, all its supersets are also infrequent.\n",
    "\n",
    "Assume the example"
   ]
  },
  {
   "cell_type": "code",
   "execution_count": 19,
   "metadata": {},
   "outputs": [],
   "source": [
    "T = [\n",
    "  {'A', 'C', 'D'},\n",
    "  {'B', 'C', 'E'},\n",
    "  {'A', 'B', 'C', 'E'},\n",
    "  {'B', 'E'},\n",
    "  {'A', 'B', 'C', 'E'}\n",
    "]\n",
    "\n",
    "smin = 0.4"
   ]
  },
  {
   "cell_type": "markdown",
   "metadata": {},
   "source": [
    "\n",
    "### Starting Small\n",
    "\n",
    "So here's our approach.\n",
    "\n",
    "- First, we find all frequent itemsets of size 1 (called _frequent 1-itemsets_).\n",
    "- Next, we \"prune\" itemsets whose support is too low.\n",
    "- Then, we generate frequent _2_-itemsets from the remaining 1-itemsets.\n",
    "- Again, we \"prune\" itemsets whose support is too low.\n",
    "- Increase the size and repeat.\n"
   ]
  },
  {
   "cell_type": "markdown",
   "metadata": {},
   "source": [
    "### Generating Frequent 1-itemsets\n",
    "\n",
    "First, let's generate frequent 1-itemsets.\n",
    "Before that, I will create a function to union multiple sets."
   ]
  },
  {
   "cell_type": "code",
   "execution_count": 20,
   "metadata": {},
   "outputs": [],
   "source": [
    "def union_all(sets):\n",
    "    result = set()\n",
    "    for c in sets:\n",
    "        result = result | c\n",
    "    return result"
   ]
  },
  {
   "cell_type": "code",
   "execution_count": 21,
   "metadata": {},
   "outputs": [
    {
     "data": {
      "image/png": "[encoded data removed]",
      "text/latex": [
       "$$\\left\\{1, 2, 3\\right\\}$$"
      ],
      "text/plain": [
       "set([1, 2, 3])"
      ]
     },
     "execution_count": 21,
     "metadata": {},
     "output_type": "execute_result"
    }
   ],
   "source": [
    "union_all([{1, 2}, {2, 3}])"
   ]
  },
  {
   "cell_type": "code",
   "execution_count": 22,
   "metadata": {},
   "outputs": [
    {
     "data": {
      "image/png": "[encoded data removed]",
      "text/latex": [
       "$$\\left\\{\\right\\}$$"
      ],
      "text/plain": [
       "set([])"
      ]
     },
     "execution_count": 22,
     "metadata": {},
     "output_type": "execute_result"
    }
   ],
   "source": [
    "union_all([])"
   ]
  },
  {
   "cell_type": "markdown",
   "metadata": {},
   "source": [
    "Now, some code to find frequent 1-itemsets:"
   ]
  },
  {
   "cell_type": "code",
   "execution_count": 23,
   "metadata": {},
   "outputs": [],
   "source": [
    "def frequent_1(T):\n",
    "  items = union_all(T)\n",
    "  return [{item}\n",
    "    for item in items\n",
    "      if support({item}, T) >= smin]"
   ]
  },
  {
   "cell_type": "code",
   "execution_count": 24,
   "metadata": {},
   "outputs": [
    {
     "data": {
      "text/plain": [
       "[{'E'}, {'B'}, {'A'}, {'C'}]"
      ]
     },
     "execution_count": 24,
     "metadata": {},
     "output_type": "execute_result"
    }
   ],
   "source": [
    "L1 = frequent_1(T)\n",
    "L1"
   ]
  },
  {
   "cell_type": "markdown",
   "metadata": {},
   "source": [
    "As you see, \"D\" is eliminated from the candidates.\n",
    "That means any itemset with \"D\" in it will not be frequent enough."
   ]
  },
  {
   "cell_type": "markdown",
   "metadata": {},
   "source": [
    "### Expanding It\n",
    "\n",
    "Next, we generate frequent 2-itemsets from 1-itemsets.\n",
    "The easiest way to do it is to put these items together and select 2 items. First, we put them together:"
   ]
  },
  {
   "cell_type": "code",
   "execution_count": 25,
   "metadata": {},
   "outputs": [
    {
     "data": {
      "text/plain": [
       "{'A', 'B', 'C', 'E'}"
      ]
     },
     "execution_count": 25,
     "metadata": {},
     "output_type": "execute_result"
    }
   ],
   "source": [
    "union_all(L1)"
   ]
  },
  {
   "cell_type": "code",
   "execution_count": 26,
   "metadata": {},
   "outputs": [
    {
     "name": "stdout",
     "output_type": "stream",
     "text": [
      "{'E', 'C'}\n",
      "{'C', 'B'}\n",
      "{'C', 'A'}\n",
      "{'E', 'B'}\n",
      "{'E', 'A'}\n",
      "{'B', 'A'}\n"
     ]
    }
   ],
   "source": [
    "C2 = subsets(_, 2)\n",
    "print_all(C2)"
   ]
  },
  {
   "cell_type": "markdown",
   "metadata": {},
   "source": [
    "These are the candidate itemsets. But maybe... not all of them are frequent enough."
   ]
  },
  {
   "cell_type": "markdown",
   "metadata": {},
   "source": [
    "Now, for each candidate $c$ in `C2`,\n",
    "we must make sure at all of $c$'s 1-subset is in `L1`.\n",
    "Why? If one of $c$'s subset (let's call it $s$) is not in `L1`,\n",
    "it means that that $s$ has already been pruned, because $s$ is not frequent enough.\n",
    "Since $c$ is a superset of $s$, $c$ will also not be frequent enough."
   ]
  },
  {
   "cell_type": "code",
   "execution_count": 27,
   "metadata": {},
   "outputs": [],
   "source": [
    "def good_candidate(c, P):\n",
    "    for s in subsets(c, len(c) - 1):\n",
    "        if s not in P: return false\n",
    "    return True"
   ]
  },
  {
   "cell_type": "code",
   "execution_count": 28,
   "metadata": {},
   "outputs": [
    {
     "name": "stdout",
     "output_type": "stream",
     "text": [
      "{'E', 'C'}\n",
      "{'C', 'B'}\n",
      "{'C', 'A'}\n",
      "{'E', 'B'}\n",
      "{'E', 'A'}\n",
      "{'B', 'A'}\n"
     ]
    }
   ],
   "source": [
    "F2 = [c for c in C2 if good_candidate(c, L1)]\n",
    "print_all(F2)"
   ]
  },
  {
   "cell_type": "markdown",
   "metadata": {},
   "source": [
    "Well, it seems that every candidate is a good one. Anyway, now we have the finalists!\n",
    "For the final round, you might have guessed it:\n",
    "We simply check the support to see if each item set is frequent enough!"
   ]
  },
  {
   "cell_type": "code",
   "execution_count": 29,
   "metadata": {},
   "outputs": [
    {
     "name": "stdout",
     "output_type": "stream",
     "text": [
      "{'E', 'C'}\n",
      "{'C', 'B'}\n",
      "{'C', 'A'}\n",
      "{'E', 'B'}\n",
      "{'E', 'A'}\n",
      "{'B', 'A'}\n"
     ]
    }
   ],
   "source": [
    "L2 = [f for f in F2 if support(f, T) >= smin]\n",
    "print_all(L2)"
   ]
  },
  {
   "cell_type": "markdown",
   "metadata": {},
   "source": [
    "Again, all of them are frequent enough! So, now we have the 2-itemsets."
   ]
  },
  {
   "cell_type": "markdown",
   "metadata": {},
   "source": [
    "### Moving On"
   ]
  },
  {
   "cell_type": "markdown",
   "metadata": {},
   "source": [
    "Now, let's generate `L3`."
   ]
  },
  {
   "cell_type": "code",
   "execution_count": 30,
   "metadata": {},
   "outputs": [],
   "source": [
    "def generate_candidates(P, k):\n",
    "    return subsets(union_all(P), k)"
   ]
  },
  {
   "cell_type": "code",
   "execution_count": 31,
   "metadata": {},
   "outputs": [
    {
     "name": "stdout",
     "output_type": "stream",
     "text": [
      "{'E', 'B', 'A'}\n",
      "{'C', 'E', 'B'}\n",
      "{'E', 'C', 'A'}\n",
      "{'C', 'B', 'A'}\n"
     ]
    }
   ],
   "source": [
    "C3 = generate_candidates(L2, 3)\n",
    "print_all(C3)"
   ]
  },
  {
   "cell_type": "code",
   "execution_count": 32,
   "metadata": {},
   "outputs": [
    {
     "name": "stdout",
     "output_type": "stream",
     "text": [
      "{'E', 'B', 'A'}\n",
      "{'C', 'E', 'B'}\n",
      "{'E', 'C', 'A'}\n",
      "{'C', 'B', 'A'}\n"
     ]
    }
   ],
   "source": [
    "F3 = [c for c in C3\n",
    "         if good_candidate(c, L2)]\n",
    "print_all(F3)"
   ]
  },
  {
   "cell_type": "code",
   "execution_count": 33,
   "metadata": {},
   "outputs": [
    {
     "name": "stdout",
     "output_type": "stream",
     "text": [
      "{'E', 'B', 'A'}\n",
      "{'C', 'E', 'B'}\n",
      "{'E', 'C', 'A'}\n",
      "{'C', 'B', 'A'}\n"
     ]
    }
   ],
   "source": [
    "L3 = [f for f in F3\n",
    "         if support(f, T) >= smin]\n",
    "print_all(L3)"
   ]
  },
  {
   "cell_type": "markdown",
   "metadata": {},
   "source": [
    "### Generalizing It\n",
    "\n",
    "We can turn the above steps into this function:"
   ]
  },
  {
   "cell_type": "code",
   "execution_count": 36,
   "metadata": {},
   "outputs": [],
   "source": [
    "def frequent_k(P, k, T):\n",
    "    # YOUR CODE HERE\n",
    "    C = generate_candidates(P, k)\n",
    "    F = [c for c in C if good_candidate(c, P)]\n",
    "    L = [f for f in F if support(f, T) >= smin]\n",
    "    \n",
    "    return L"
   ]
  },
  {
   "cell_type": "markdown",
   "metadata": {},
   "source": [
    "We then use that function to generate `L4`."
   ]
  },
  {
   "cell_type": "code",
   "execution_count": 37,
   "metadata": {},
   "outputs": [
    {
     "data": {
      "text/plain": [
       "[{'A', 'B', 'C', 'E'}]"
      ]
     },
     "execution_count": 37,
     "metadata": {},
     "output_type": "execute_result"
    }
   ],
   "source": [
    "L4 = frequent_k(L3, 4, T)\n",
    "L4"
   ]
  },
  {
   "cell_type": "markdown",
   "metadata": {},
   "source": [
    "Finally, generating `L5` will return no itemsets, which concludes the Apriori algorithm:"
   ]
  },
  {
   "cell_type": "code",
   "execution_count": 38,
   "metadata": {},
   "outputs": [
    {
     "data": {
      "image/png": "[encoded data removed]",
      "text/latex": [
       "$$\\left [ \\right ]$$"
      ],
      "text/plain": [
       "[]"
      ]
     },
     "execution_count": 38,
     "metadata": {},
     "output_type": "execute_result"
    }
   ],
   "source": [
    "L5 = frequent_k(L4, 5, T)\n",
    "L5"
   ]
  },
  {
   "cell_type": "markdown",
   "metadata": {},
   "source": [
    "Putting It Together\n",
    "-------------------\n",
    "\n",
    "We take all the previous answers to find the frequent itemsets!"
   ]
  },
  {
   "cell_type": "code",
   "execution_count": 39,
   "metadata": {},
   "outputs": [
    {
     "data": {
      "text/plain": [
       "[{'E'},\n",
       " {'B'},\n",
       " {'A'},\n",
       " {'C'},\n",
       " {'C', 'E'},\n",
       " {'B', 'C'},\n",
       " {'A', 'C'},\n",
       " {'B', 'E'},\n",
       " {'A', 'E'},\n",
       " {'A', 'B'},\n",
       " {'A', 'B', 'E'},\n",
       " {'B', 'C', 'E'},\n",
       " {'A', 'C', 'E'},\n",
       " {'A', 'B', 'C'},\n",
       " {'A', 'B', 'C', 'E'}]"
      ]
     },
     "execution_count": 39,
     "metadata": {},
     "output_type": "execute_result"
    }
   ],
   "source": [
    "L1 + L2 + L3 + L4 + L5"
   ]
  },
  {
   "cell_type": "markdown",
   "metadata": {},
   "source": [
    "Summing It Up\n",
    "-------------\n",
    "\n",
    "Finally, here's the apriori algorithm!"
   ]
  },
  {
   "cell_type": "raw",
   "metadata": {},
   "source": [
    "def apriori(T):\n",
    "    result = []\n",
    "    # YOUR CODE HERE \n",
    "    for i in range(len(T)\n",
    "    \n",
    "    return result"
   ]
  },
  {
   "cell_type": "code",
   "execution_count": 47,
   "metadata": {},
   "outputs": [
    {
     "data": {
      "text/plain": [
       "{'A', 'B', 'C', 'D', 'E'}"
      ]
     },
     "execution_count": 47,
     "metadata": {},
     "output_type": "execute_result"
    }
   ],
   "source": [
    "union_all(T)"
   ]
  },
  {
   "cell_type": "code",
   "execution_count": 56,
   "metadata": {},
   "outputs": [],
   "source": [
    "def apriori(T):\n",
    "    result = []\n",
    "    # YOUR CODE HERE\n",
    "    s = union_all(T)\n",
    "    L = frequent_1(T)\n",
    "    \n",
    "    for i in range(2, len(s) + 1):\n",
    "        result.extend(L)\n",
    "        L = frequent_k(L, i, T)\n",
    "        \n",
    "    return result"
   ]
  },
  {
   "cell_type": "code",
   "execution_count": 57,
   "metadata": {},
   "outputs": [
    {
     "data": {
      "text/plain": [
       "[{'E'},\n",
       " {'B'},\n",
       " {'A'},\n",
       " {'C'},\n",
       " {'C', 'E'},\n",
       " {'B', 'C'},\n",
       " {'A', 'C'},\n",
       " {'B', 'E'},\n",
       " {'A', 'E'},\n",
       " {'A', 'B'},\n",
       " {'A', 'B', 'E'},\n",
       " {'B', 'C', 'E'},\n",
       " {'A', 'C', 'E'},\n",
       " {'A', 'B', 'C'},\n",
       " {'A', 'B', 'C', 'E'}]"
      ]
     },
     "execution_count": 57,
     "metadata": {},
     "output_type": "execute_result"
    }
   ],
   "source": [
    "L = apriori(T)\n",
    "L"
   ]
  },
  {
   "cell_type": "markdown",
   "metadata": {},
   "source": [
    "For each frequent itemsets, we generate rules from it."
   ]
  },
  {
   "cell_type": "code",
   "execution_count": 58,
   "metadata": {},
   "outputs": [
    {
     "data": {
      "text/plain": [
       "[({'E'}, {'C'}),\n",
       " ({'C'}, {'E'}),\n",
       " ({'C'}, {'B'}),\n",
       " ({'B'}, {'C'}),\n",
       " ({'C'}, {'A'}),\n",
       " ({'A'}, {'C'}),\n",
       " ({'E'}, {'B'}),\n",
       " ({'B'}, {'E'}),\n",
       " ({'A', 'E'}, {'B'}),\n",
       " ({'A', 'B'}, {'E'}),\n",
       " ({'C'}, {'B', 'E'}),\n",
       " ({'E'}, {'B', 'C'}),\n",
       " ({'B'}, {'C', 'E'}),\n",
       " ({'C', 'E'}, {'B'}),\n",
       " ({'B', 'C'}, {'E'}),\n",
       " ({'B', 'E'}, {'C'}),\n",
       " ({'A', 'E'}, {'C'}),\n",
       " ({'A', 'B'}, {'C'}),\n",
       " ({'A', 'E'}, {'B', 'C'}),\n",
       " ({'A', 'B'}, {'C', 'E'}),\n",
       " ({'A', 'C', 'E'}, {'B'}),\n",
       " ({'A', 'B', 'C'}, {'E'}),\n",
       " ({'A', 'B', 'E'}, {'C'})]"
      ]
     },
     "execution_count": 58,
     "metadata": {},
     "output_type": "execute_result"
    }
   ],
   "source": [
    "cmin = 0.75\n",
    "\n",
    "[rule\n",
    "  for itemset in L\n",
    "    for rule in find_rules(itemset, T)]"
   ]
  },
  {
   "cell_type": "markdown",
   "metadata": {},
   "source": [
    "The Lift\n",
    "--------\n",
    "\n",
    "How can you be sure that there really is a correlation between the itemset $X$ and $Y$?\n",
    "\n",
    "Take an example from the slides:\n",
    "\n",
    "- 90% of customers buy coffee.\n",
    "- 25% of customers buy tea.\n",
    "- 20% of customers buy both.\n",
    "\n",
    "After filling Venn diagram, here's our transactions:"
   ]
  },
  {
   "cell_type": "code",
   "execution_count": 59,
   "metadata": {},
   "outputs": [],
   "source": [
    "T = (\n",
    "  20 * [{'coffee', 'tea'}] +\n",
    "  70 * [{'coffee'}] +\n",
    "   5 * [{'tea'}] +\n",
    "   5 * [set()]\n",
    ")"
   ]
  },
  {
   "cell_type": "markdown",
   "metadata": {},
   "source": [
    "Given $\\{\\text{coffee}, \\text{tea}\\}$ is a frequent itemset,\n",
    "let's mine some rules!"
   ]
  },
  {
   "cell_type": "code",
   "execution_count": 60,
   "metadata": {},
   "outputs": [
    {
     "data": {
      "text/plain": [
       "[({'tea'}, {'coffee'})]"
      ]
     },
     "execution_count": 60,
     "metadata": {},
     "output_type": "execute_result"
    }
   ],
   "source": [
    "rules = find_rules({'coffee', 'tea'}, T)\n",
    "rules"
   ]
  },
  {
   "cell_type": "markdown",
   "metadata": {},
   "source": [
    "Here, we mined the rule $\\{\\text{tea}\\} \\Rightarrow \\{\\text{coffee}\\}$.\n",
    "How confident we are?"
   ]
  },
  {
   "cell_type": "code",
   "execution_count": 61,
   "metadata": {},
   "outputs": [
    {
     "data": {
      "image/png": "[encoded data removed]",
      "text/latex": [
       "$$\\frac{4}{5}$$"
      ],
      "text/plain": [
       "4/5"
      ]
     },
     "execution_count": 61,
     "metadata": {},
     "output_type": "execute_result"
    }
   ],
   "source": [
    "rule = ({'tea'}, {'coffee'})\n",
    "rule_confidence(rule, T)"
   ]
  },
  {
   "cell_type": "markdown",
   "metadata": {},
   "source": [
    "We found that __80% of customers that buy tea also buys coffee__.\n",
    "We're highly confident, at 80 percent!\n",
    "But is 80% good?\n",
    "\n",
    "Does it really mean that the customer buys coffee _because_ they buys tea?\n",
    "To find out, let's remove the condition.\n",
    "Let's see how many people buys coffee \"no matter what:\""
   ]
  },
  {
   "cell_type": "code",
   "execution_count": 62,
   "metadata": {},
   "outputs": [
    {
     "data": {
      "image/png": "[encoded data removed]",
      "text/latex": [
       "$$\\frac{9}{10}$$"
      ],
      "text/plain": [
       "9/10"
      ]
     },
     "execution_count": 62,
     "metadata": {},
     "output_type": "execute_result"
    }
   ],
   "source": [
    "rule = (set(), {'coffee'})\n",
    "rule_confidence(rule, T)"
   ]
  },
  {
   "cell_type": "markdown",
   "metadata": {},
   "source": [
    "This is called the unconditional, _expected confidence_.\n",
    "As you see, people who buy tea are actually less likely to buy coffee.\n",
    "This is a _negative correlation_.\n",
    "\n",
    "To quantify this correlation, we use a measure called \"lift:\"\n",
    "\n",
    "$$ L(X \\Rightarrow Y) = \\frac{c(X \\Rightarrow Y)}{c(\\varnothing \\Rightarrow Y)}$$"
   ]
  },
  {
   "cell_type": "code",
   "execution_count": 78,
   "metadata": {},
   "outputs": [],
   "source": [
    "def rule_lift(xy, T):\n",
    "    x, y = func(xy)\n",
    "    #print(y)\n",
    "    return rule_confidence(xy, T) / rule_confidence((set(), y), T)"
   ]
  },
  {
   "cell_type": "code",
   "execution_count": 79,
   "metadata": {},
   "outputs": [
    {
     "data": {
      "image/png": "[encoded data removed]",
      "text/latex": [
       "$$\\frac{8}{9}$$"
      ],
      "text/plain": [
       "8/9"
      ]
     },
     "execution_count": 79,
     "metadata": {},
     "output_type": "execute_result"
    }
   ],
   "source": [
    "rule = ({'tea'}, {'coffee'})\n",
    "rule_lift(rule, T)"
   ]
  },
  {
   "cell_type": "markdown",
   "metadata": {},
   "source": [
    "The \"lift\" measure tells us the correlation of the rule.\n",
    "\n",
    "- $L > 1 \\Rightarrow$ positive correlation\n",
    "- $L = 1 \\Rightarrow$ independence\n",
    "- $L < 1 \\Rightarrow$ negative correlation"
   ]
  },
  {
   "cell_type": "markdown",
   "metadata": {},
   "source": [
    "And this concludes this notebook regarding association rules and apriori algorithm."
   ]
  },
  {
   "cell_type": "markdown",
   "metadata": {},
   "source": [
    "## Tasks\n"
   ]
  },
  {
   "cell_type": "markdown",
   "metadata": {},
   "source": [
    "[The Intuition Behind the Apriori Algorithm](https://medium.com/weekly-data-science/the-intuition-behind-the-apriori-algorithm-4efe312ccc3c)"
   ]
  },
  {
   "cell_type": "markdown",
   "metadata": {},
   "source": [
    "[Hash Functions for Data Mining](https://medium.com/weekly-data-science/hash-functions-for-data-mining-55e9c7760703)"
   ]
  },
  {
   "cell_type": "markdown",
   "metadata": {},
   "source": [
    "## Question 1\n",
    "Suppose we have transactions that satisfy the following assumptions: \n",
    "- s, the support threshold, is 10,000.\n",
    "- There are one million items, which are represented by the integers 0,1,...,999999.\n",
    "- There are N frequent items, that is, items that occur 10,000 times or more.\n",
    "- There are one million pairs that occur 10,000 times or more.\n",
    "- There are 2M pairs that occur exactly once. M of these pairs consist of two frequent items, the other M each have at least one nonfrequent item.\n",
    "- No other pairs occur at all.\n",
    "- Integers are always represented by 4 bytes.\n",
    "\n",
    "Suppose we run the a-priori algorithm to find frequent pairs and can choose on the second pass between the triangular-matrix method for counting candidate pairs (a triangular array $count[i][j]$ that holds an integer count for each pair of items (i, j) where i < j) and a hash table of item-item-count triples. Neglect in the first case the space needed to translate between original item numbers and numbers for the frequent items, and in the second case neglect the space needed for the hash table. Assume that item numbers and counts are always 4-byte integers. \n",
    "\n",
    "As a function of N and M, what is the minimum number of bytes of main memory needed to execute the a-priori algorithm on this data? Demonstrate that you have the correct formula by selecting, from the choices below, the triple consisting of values for N, M, and the (approximate, i.e., to within 10%) minumum number of bytes of main memory, S, needed for the a-priori algorithm to execute with this data.\n",
    "\n",
    "import os\n",
    "import sys\n",
    "\n",
    "# N = 100,000; M = 50,000,000; S = 5,000,000,000\n",
    "# N = 40,000; M = 60,000,000; S = 3,200,000,000\n",
    "# N = 50,000; M = 80,000,000; S = 1,500,000,000\n",
    "# N = 100,000; M = 100,000,000; S = 1,200,000,000\n",
    "soln = [[100000, 50000000, 5000000000],\n",
    "        [40000, 60000000, 3200000000],\n",
    "        [50000, 80000000, 1500000000],\n",
    "        [100000, 100000000, 1200000000]]"
   ]
  },
  {
   "cell_type": "code",
   "execution_count": 93,
   "metadata": {},
   "outputs": [],
   "source": [
    "import os \n",
    "import sys\n",
    "\n",
    "soln = [[100000, 50000000, 5000000000], [40000, 60000000, 3200000000], [50000, 80000000, 1500000000], [100000, 100000000, 1200000000]]"
   ]
  },
  {
   "cell_type": "markdown",
   "metadata": {},
   "source": [
    "4 * N (number of frequent items) + 12 * M (number of pairs of frequent items) + 12 * 1000000 (number of frequent pairs)\n",
    "4 * N (number of frequent items) + 4 * N * N / 2(number of pairs of frequent items + number of frequent pairs)\n",
    "\n",
    "Taking into consideration O() notation, we choose minimum between two maximums(one for each row) "
   ]
  },
  {
   "cell_type": "code",
   "execution_count": 96,
   "metadata": {},
   "outputs": [
    {
     "name": "stdout",
     "output_type": "stream",
     "text": [
      "600000000\n",
      "720000000\n",
      "960000000\n",
      "1200000000\n"
     ]
    }
   ],
   "source": [
    "for n, m, s in soln:\n",
    "    v1 = max(4 * n, 12 * m, 12 * 1000000)\n",
    "    v2 = max(4 * n, 4 * n * n / 2)\n",
    "    print(min(v1, v2)) "
   ]
  },
  {
   "cell_type": "markdown",
   "metadata": {},
   "source": [
    "**Answer**: N = 100,000; M = 100,000,000; S = 1,200,000,000"
   ]
  },
  {
   "cell_type": "markdown",
   "metadata": {},
   "source": [
    "## Question 2\n",
    "Imagine there are 100 baskets, numbered 1,2,...,100, and 100 items, similarly numbered. Item i is in basket j if and only if i divides j evenly. For example, basket 24 is the set of items {1,2,3,4,6,8,12,24}. Describe all the association rules that have 100% confidence. Which of the following rules has 100% confidence?"
   ]
  },
  {
   "cell_type": "code",
   "execution_count": 80,
   "metadata": {},
   "outputs": [],
   "source": [
    "baskets = range(1,101)\n",
    "items = range(1,101)\n",
    "\n",
    "# Create transactions\n",
    "transactions = []\n",
    "\n",
    "for i in baskets:\n",
    "    basket = []\n",
    "    for item in items:\n",
    "        if i % item == 0:\n",
    "            basket.append(item)\n",
    "    transactions.append(basket)"
   ]
  },
  {
   "cell_type": "code",
   "execution_count": 81,
   "metadata": {},
   "outputs": [
    {
     "data": {
      "image/png": "[encoded data removed]",
      "text/latex": [
       "$$\\left [ \\left [ 1\\right ], \\quad \\left [ 1, \\quad 2\\right ], \\quad \\left [ 1, \\quad 3\\right ], \\quad \\left [ 1, \\quad 2, \\quad 4\\right ], \\quad \\left [ 1, \\quad 5\\right ], \\quad \\left [ 1, \\quad 2, \\quad 3, \\quad 6\\right ], \\quad \\left [ 1, \\quad 7\\right ], \\quad \\left [ 1, \\quad 2, \\quad 4, \\quad 8\\right ], \\quad \\left [ 1, \\quad 3, \\quad 9\\right ], \\quad \\left [ 1, \\quad 2, \\quad 5, \\quad 10\\right ], \\quad \\left [ 1, \\quad 11\\right ], \\quad \\left [ 1, \\quad 2, \\quad 3, \\quad 4, \\quad 6, \\quad 12\\right ], \\quad \\left [ 1, \\quad 13\\right ], \\quad \\left [ 1, \\quad 2, \\quad 7, \\quad 14\\right ], \\quad \\left [ 1, \\quad 3, \\quad 5, \\quad 15\\right ], \\quad \\left [ 1, \\quad 2, \\quad 4, \\quad 8, \\quad 16\\right ], \\quad \\left [ 1, \\quad 17\\right ], \\quad \\left [ 1, \\quad 2, \\quad 3, \\quad 6, \\quad 9, \\quad 18\\right ], \\quad \\left [ 1, \\quad 19\\right ], \\quad \\left [ 1, \\quad 2, \\quad 4, \\quad 5, \\quad 10, \\quad 20\\right ], \\quad \\left [ 1, \\quad 3, \\quad 7, \\quad 21\\right ], \\quad \\left [ 1, \\quad 2, \\quad 11, \\quad 22\\right ], \\quad \\left [ 1, \\quad 23\\right ], \\quad \\left [ 1, \\quad 2, \\quad 3, \\quad 4, \\quad 6, \\quad 8, \\quad 12, \\quad 24\\right ], \\quad \\left [ 1, \\quad 5, \\quad 25\\right ], \\quad \\left [ 1, \\quad 2, \\quad 13, \\quad 26\\right ], \\quad \\left [ 1, \\quad 3, \\quad 9, \\quad 27\\right ], \\quad \\left [ 1, \\quad 2, \\quad 4, \\quad 7, \\quad 14, \\quad 28\\right ], \\quad \\left [ 1, \\quad 29\\right ], \\quad \\left [ 1, \\quad 2, \\quad 3, \\quad 5, \\quad 6, \\quad 10, \\quad 15, \\quad 30\\right ], \\quad \\left [ 1, \\quad 31\\right ], \\quad \\left [ 1, \\quad 2, \\quad 4, \\quad 8, \\quad 16, \\quad 32\\right ], \\quad \\left [ 1, \\quad 3, \\quad 11, \\quad 33\\right ], \\quad \\left [ 1, \\quad 2, \\quad 17, \\quad 34\\right ], \\quad \\left [ 1, \\quad 5, \\quad 7, \\quad 35\\right ], \\quad \\left [ 1, \\quad 2, \\quad 3, \\quad 4, \\quad 6, \\quad 9, \\quad 12, \\quad 18, \\quad 36\\right ], \\quad \\left [ 1, \\quad 37\\right ], \\quad \\left [ 1, \\quad 2, \\quad 19, \\quad 38\\right ], \\quad \\left [ 1, \\quad 3, \\quad 13, \\quad 39\\right ], \\quad \\left [ 1, \\quad 2, \\quad 4, \\quad 5, \\quad 8, \\quad 10, \\quad 20, \\quad 40\\right ], \\quad \\left [ 1, \\quad 41\\right ], \\quad \\left [ 1, \\quad 2, \\quad 3, \\quad 6, \\quad 7, \\quad 14, \\quad 21, \\quad 42\\right ], \\quad \\left [ 1, \\quad 43\\right ], \\quad \\left [ 1, \\quad 2, \\quad 4, \\quad 11, \\quad 22, \\quad 44\\right ], \\quad \\left [ 1, \\quad 3, \\quad 5, \\quad 9, \\quad 15, \\quad 45\\right ], \\quad \\left [ 1, \\quad 2, \\quad 23, \\quad 46\\right ], \\quad \\left [ 1, \\quad 47\\right ], \\quad \\left [ 1, \\quad 2, \\quad 3, \\quad 4, \\quad 6, \\quad 8, \\quad 12, \\quad 16, \\quad 24, \\quad 48\\right ], \\quad \\left [ 1, \\quad 7, \\quad 49\\right ], \\quad \\left [ 1, \\quad 2, \\quad 5, \\quad 10, \\quad 25, \\quad 50\\right ], \\quad \\left [ 1, \\quad 3, \\quad 17, \\quad 51\\right ], \\quad \\left [ 1, \\quad 2, \\quad 4, \\quad 13, \\quad 26, \\quad 52\\right ], \\quad \\left [ 1, \\quad 53\\right ], \\quad \\left [ 1, \\quad 2, \\quad 3, \\quad 6, \\quad 9, \\quad 18, \\quad 27, \\quad 54\\right ], \\quad \\left [ 1, \\quad 5, \\quad 11, \\quad 55\\right ], \\quad \\left [ 1, \\quad 2, \\quad 4, \\quad 7, \\quad 8, \\quad 14, \\quad 28, \\quad 56\\right ], \\quad \\left [ 1, \\quad 3, \\quad 19, \\quad 57\\right ], \\quad \\left [ 1, \\quad 2, \\quad 29, \\quad 58\\right ], \\quad \\left [ 1, \\quad 59\\right ], \\quad \\left [ 1, \\quad 2, \\quad 3, \\quad 4, \\quad 5, \\quad 6, \\quad 10, \\quad 12, \\quad 15, \\quad 20, \\quad 30, \\quad 60\\right ], \\quad \\left [ 1, \\quad 61\\right ], \\quad \\left [ 1, \\quad 2, \\quad 31, \\quad 62\\right ], \\quad \\left [ 1, \\quad 3, \\quad 7, \\quad 9, \\quad 21, \\quad 63\\right ], \\quad \\left [ 1, \\quad 2, \\quad 4, \\quad 8, \\quad 16, \\quad 32, \\quad 64\\right ], \\quad \\left [ 1, \\quad 5, \\quad 13, \\quad 65\\right ], \\quad \\left [ 1, \\quad 2, \\quad 3, \\quad 6, \\quad 11, \\quad 22, \\quad 33, \\quad 66\\right ], \\quad \\left [ 1, \\quad 67\\right ], \\quad \\left [ 1, \\quad 2, \\quad 4, \\quad 17, \\quad 34, \\quad 68\\right ], \\quad \\left [ 1, \\quad 3, \\quad 23, \\quad 69\\right ], \\quad \\left [ 1, \\quad 2, \\quad 5, \\quad 7, \\quad 10, \\quad 14, \\quad 35, \\quad 70\\right ], \\quad \\left [ 1, \\quad 71\\right ], \\quad \\left [ 1, \\quad 2, \\quad 3, \\quad 4, \\quad 6, \\quad 8, \\quad 9, \\quad 12, \\quad 18, \\quad 24, \\quad 36, \\quad 72\\right ], \\quad \\left [ 1, \\quad 73\\right ], \\quad \\left [ 1, \\quad 2, \\quad 37, \\quad 74\\right ], \\quad \\left [ 1, \\quad 3, \\quad 5, \\quad 15, \\quad 25, \\quad 75\\right ], \\quad \\left [ 1, \\quad 2, \\quad 4, \\quad 19, \\quad 38, \\quad 76\\right ], \\quad \\left [ 1, \\quad 7, \\quad 11, \\quad 77\\right ], \\quad \\left [ 1, \\quad 2, \\quad 3, \\quad 6, \\quad 13, \\quad 26, \\quad 39, \\quad 78\\right ], \\quad \\left [ 1, \\quad 79\\right ], \\quad \\left [ 1, \\quad 2, \\quad 4, \\quad 5, \\quad 8, \\quad 10, \\quad 16, \\quad 20, \\quad 40, \\quad 80\\right ], \\quad \\left [ 1, \\quad 3, \\quad 9, \\quad 27, \\quad 81\\right ], \\quad \\left [ 1, \\quad 2, \\quad 41, \\quad 82\\right ], \\quad \\left [ 1, \\quad 83\\right ], \\quad \\left [ 1, \\quad 2, \\quad 3, \\quad 4, \\quad 6, \\quad 7, \\quad 12, \\quad 14, \\quad 21, \\quad 28, \\quad 42, \\quad 84\\right ], \\quad \\left [ 1, \\quad 5, \\quad 17, \\quad 85\\right ], \\quad \\left [ 1, \\quad 2, \\quad 43, \\quad 86\\right ], \\quad \\left [ 1, \\quad 3, \\quad 29, \\quad 87\\right ], \\quad \\left [ 1, \\quad 2, \\quad 4, \\quad 8, \\quad 11, \\quad 22, \\quad 44, \\quad 88\\right ], \\quad \\left [ 1, \\quad 89\\right ], \\quad \\left [ 1, \\quad 2, \\quad 3, \\quad 5, \\quad 6, \\quad 9, \\quad 10, \\quad 15, \\quad 18, \\quad 30, \\quad 45, \\quad 90\\right ], \\quad \\left [ 1, \\quad 7, \\quad 13, \\quad 91\\right ], \\quad \\left [ 1, \\quad 2, \\quad 4, \\quad 23, \\quad 46, \\quad 92\\right ], \\quad \\left [ 1, \\quad 3, \\quad 31, \\quad 93\\right ], \\quad \\left [ 1, \\quad 2, \\quad 47, \\quad 94\\right ], \\quad \\left [ 1, \\quad 5, \\quad 19, \\quad 95\\right ], \\quad \\left [ 1, \\quad 2, \\quad 3, \\quad 4, \\quad 6, \\quad 8, \\quad 12, \\quad 16, \\quad 24, \\quad 32, \\quad 48, \\quad 96\\right ], \\quad \\left [ 1, \\quad 97\\right ], \\quad \\left [ 1, \\quad 2, \\quad 7, \\quad 14, \\quad 49, \\quad 98\\right ], \\quad \\left [ 1, \\quad 3, \\quad 9, \\quad 11, \\quad 33, \\quad 99\\right ], \\quad \\left [ 1, \\quad 2, \\quad 4, \\quad 5, \\quad 10, \\quad 20, \\quad 25, \\quad 50, \\quad 100\\right ]\\right ]$$"
      ],
      "text/plain": [
       "[[1], [1, 2], [1, 3], [1, 2, 4], [1, 5], [1, 2, 3, 6], [1, 7], [1, 2, 4, 8], [\n",
       "1, 3, 9], [1, 2, 5, 10], [1, 11], [1, 2, 3, 4, 6, 12], [1, 13], [1, 2, 7, 14],\n",
       " [1, 3, 5, 15], [1, 2, 4, 8, 16], [1, 17], [1, 2, 3, 6, 9, 18], [1, 19], [1, 2\n",
       ", 4, 5, 10, 20], [1, 3, 7, 21], [1, 2, 11, 22], [1, 23], [1, 2, 3, 4, 6, 8, 12\n",
       ", 24], [1, 5, 25], [1, 2, 13, 26], [1, 3, 9, 27], [1, 2, 4, 7, 14, 28], [1, 29\n",
       "], [1, 2, 3, 5, 6, 10, 15, 30], [1, 31], [1, 2, 4, 8, 16, 32], [1, 3, 11, 33],\n",
       " [1, 2, 17, 34], [1, 5, 7, 35], [1, 2, 3, 4, 6, 9, 12, 18, 36], [1, 37], [1, 2\n",
       ", 19, 38], [1, 3, 13, 39], [1, 2, 4, 5, 8, 10, 20, 40], [1, 41], [1, 2, 3, 6, \n",
       "7, 14, 21, 42], [1, 43], [1, 2, 4, 11, 22, 44], [1, 3, 5, 9, 15, 45], [1, 2, 2\n",
       "3, 46], [1, 47], [1, 2, 3, 4, 6, 8, 12, 16, 24, 48], [1, 7, 49], [1, 2, 5, 10,\n",
       " 25, 50], [1, 3, 17, 51], [1, 2, 4, 13, 26, 52], [1, 53], [1, 2, 3, 6, 9, 18, \n",
       "27, 54], [1, 5, 11, 55], [1, 2, 4, 7, 8, 14, 28, 56], [1, 3, 19, 57], [1, 2, 2\n",
       "9, 58], [1, 59], [1, 2, 3, 4, 5, 6, 10, 12, 15, 20, 30, 60], [1, 61], [1, 2, 3\n",
       "1, 62], [1, 3, 7, 9, 21, 63], [1, 2, 4, 8, 16, 32, 64], [1, 5, 13, 65], [1, 2,\n",
       " 3, 6, 11, 22, 33, 66], [1, 67], [1, 2, 4, 17, 34, 68], [1, 3, 23, 69], [1, 2,\n",
       " 5, 7, 10, 14, 35, 70], [1, 71], [1, 2, 3, 4, 6, 8, 9, 12, 18, 24, 36, 72], [1\n",
       ", 73], [1, 2, 37, 74], [1, 3, 5, 15, 25, 75], [1, 2, 4, 19, 38, 76], [1, 7, 11\n",
       ", 77], [1, 2, 3, 6, 13, 26, 39, 78], [1, 79], [1, 2, 4, 5, 8, 10, 16, 20, 40, \n",
       "80], [1, 3, 9, 27, 81], [1, 2, 41, 82], [1, 83], [1, 2, 3, 4, 6, 7, 12, 14, 21\n",
       ", 28, 42, 84], [1, 5, 17, 85], [1, 2, 43, 86], [1, 3, 29, 87], [1, 2, 4, 8, 11\n",
       ", 22, 44, 88], [1, 89], [1, 2, 3, 5, 6, 9, 10, 15, 18, 30, 45, 90], [1, 7, 13,\n",
       " 91], [1, 2, 4, 23, 46, 92], [1, 3, 31, 93], [1, 2, 47, 94], [1, 5, 19, 95], [\n",
       "1, 2, 3, 4, 6, 8, 12, 16, 24, 32, 48, 96], [1, 97], [1, 2, 7, 14, 49, 98], [1,\n",
       " 3, 9, 11, 33, 99], [1, 2, 4, 5, 10, 20, 25, 50, 100]]"
      ]
     },
     "execution_count": 81,
     "metadata": {},
     "output_type": "execute_result"
    }
   ],
   "source": [
    "transactions"
   ]
  },
  {
   "cell_type": "code",
   "execution_count": 88,
   "metadata": {},
   "outputs": [],
   "source": [
    "def confidence(num,denom):\n",
    "    # YOUR CODE HERE\n",
    "    confidence = 100\n",
    "    num_c = 0\n",
    "    denom_c = 0\n",
    "    \n",
    "    for transaction in transactions:\n",
    "        if all(item in transaction for item in num):\n",
    "            num_c += 1\n",
    "            \n",
    "    for transaction in transactions:\n",
    "        if all(item in transaction for item in denom):\n",
    "            denom_c += 1\n",
    "            \n",
    "    if num_c == 0:\n",
    "        return 0\n",
    "            \n",
    "    if denom_c / num_c > 1:\n",
    "        confidence /= denom_c / num_c\n",
    "    \n",
    "    return confidence"
   ]
  },
  {
   "cell_type": "code",
   "execution_count": 89,
   "metadata": {},
   "outputs": [
    {
     "name": "stdout",
     "output_type": "stream",
     "text": [
      "{1,2}-> 4,Condidence = 50\n",
      "{1}-> 2,Condidence = 50\n",
      "{1,4,7}-> 14,Condidence = 100\n",
      "{1,3,6}-> 12,Condidence = 50\n",
      "{4,6}-> 12,Condidence = 100\n",
      "{8,12}-> 96,Condidence = 25\n",
      "{4,6}-> 24,Condidence = 50\n",
      "{1,3,6}-> 12,Condidence = 50\n"
     ]
    }
   ],
   "source": [
    "print(\"{1,2}-> 4,Condidence = %d\"%(confidence([1,2,4],[1,2]))   )\n",
    "print(\"{1}-> 2,Condidence = %d\"%(confidence([1,2],[1]))   )\n",
    "print(\"{1,4,7}-> 14,Condidence = %d\"%(confidence([1,4,7,14],[1,4,7]))   )\n",
    "print(\"{1,3,6}-> 12,Condidence = %d\"%(confidence([1,3,6,12],[1,3,6]))   )\n",
    "print(\"{4,6}-> 12,Condidence = %d\"%(confidence([4,6,12],[4,6]))   )\n",
    "print(\"{8,12}-> 96,Condidence = %d\"%(confidence([8,12,96],[8,12]))   )\n",
    "print(\"{4,6}-> 24,Condidence = %d\"%(confidence([4,6,24],[4,6]))   )\n",
    "print(\"{1,3,6}-> 12,Condidence = %d\"%(confidence([1,3,6,12],[1,3,6])) )"
   ]
  }
 ],
 "metadata": {
  "author": "Thai Pangsakulyanont",
  "kernelspec": {
   "display_name": "Python 3",
   "language": "python",
   "name": "python3"
  },
  "language_info": {
   "codemirror_mode": {
    "name": "ipython",
    "version": 3
   },
   "file_extension": ".py",
   "mimetype": "text/x-python",
   "name": "python",
   "nbconvert_exporter": "python",
   "pygments_lexer": "ipython3",
   "version": "3.6.4"
  }
 },
 "nbformat": 4,
 "nbformat_minor": 1
}
